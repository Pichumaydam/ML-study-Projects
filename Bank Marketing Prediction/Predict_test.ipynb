{
 "cells": [
  {
   "cell_type": "code",
   "execution_count": 1,
   "id": "25fd60e9",
   "metadata": {},
   "outputs": [
    {
     "data": {
      "application/javascript": [
       "IPython.notebook.set_autosave_interval(0)"
      ]
     },
     "metadata": {},
     "output_type": "display_data"
    },
    {
     "name": "stdout",
     "output_type": "stream",
     "text": [
      "Autosave disabled\n"
     ]
    }
   ],
   "source": [
    "%autosave 0"
   ]
  },
  {
   "cell_type": "code",
   "execution_count": 2,
   "id": "93a1a3fc",
   "metadata": {},
   "outputs": [],
   "source": [
    "import requests"
   ]
  },
  {
   "cell_type": "code",
   "execution_count": 3,
   "id": "641326e7",
   "metadata": {},
   "outputs": [],
   "source": [
    "url='http://localhost:9696/predict'"
   ]
  },
  {
   "cell_type": "code",
   "execution_count": 5,
   "id": "9f05ea97",
   "metadata": {},
   "outputs": [],
   "source": [
    "customer={'age': 27,\n",
    " 'job': 'student',\n",
    " 'marital': 'single',\n",
    " 'education': 'university.degree',\n",
    " 'default': 'yes',\n",
    " 'housing': 'no',\n",
    " 'loan': 'no',\n",
    " 'contact': 'cellular',\n",
    " 'month': 'may',\n",
    " 'day_of_week': 'mon',\n",
    " 'duration': 55,\n",
    " 'campaign': 3,\n",
    " 'pdays': 999,\n",
    " 'previous': 0,\n",
    " 'poutcome': 'nonexistent',\n",
    " 'emp.var.rate': 1.1,\n",
    " 'cons.price.idx': 93.994,\n",
    " 'cons.conf.idx': -36.4,\n",
    " 'euribor3m': 4.857,\n",
    " 'nr.employed': 5191.0,\n",
    " 'y': 0}"
   ]
  },
  {
   "cell_type": "code",
   "execution_count": 9,
   "id": "5fd57a90",
   "metadata": {},
   "outputs": [],
   "source": [
    "response=requests.post(url,json=customer).json()"
   ]
  },
  {
   "cell_type": "code",
   "execution_count": 10,
   "id": "8a9bc1b7",
   "metadata": {},
   "outputs": [],
   "source": [
    "if response['churn']==True:\n",
    "    print('sending promo to %s' %('xyz-123'))"
   ]
  },
  {
   "cell_type": "code",
   "execution_count": null,
   "id": "57f6837d",
   "metadata": {},
   "outputs": [],
   "source": []
  }
 ],
 "metadata": {
  "kernelspec": {
   "display_name": "Python 3 (ipykernel)",
   "language": "python",
   "name": "python3"
  },
  "language_info": {
   "codemirror_mode": {
    "name": "ipython",
    "version": 3
   },
   "file_extension": ".py",
   "mimetype": "text/x-python",
   "name": "python",
   "nbconvert_exporter": "python",
   "pygments_lexer": "ipython3",
   "version": "3.9.5"
  }
 },
 "nbformat": 4,
 "nbformat_minor": 5
}
