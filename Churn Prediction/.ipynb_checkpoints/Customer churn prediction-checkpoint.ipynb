{
 "cells": [
  {
   "cell_type": "code",
   "execution_count": null,
   "metadata": {
    "_cell_guid": "b1076dfc-b9ad-4769-8c92-a6c4dae69d19",
    "_uuid": "8f2839f25d086af736a60e9eeb907d3b93b6e0e5",
    "execution": {
     "iopub.execute_input": "2021-10-25T04:40:10.36187Z",
     "iopub.status.busy": "2021-10-25T04:40:10.361502Z",
     "iopub.status.idle": "2021-10-25T04:40:10.400288Z",
     "shell.execute_reply": "2021-10-25T04:40:10.39944Z",
     "shell.execute_reply.started": "2021-10-25T04:40:10.361773Z"
    }
   },
   "outputs": [],
   "source": [
    "# This Python 3environment comes with many helpful analytics libraries installed\n",
    "# It is defined by the kaggle/python Docker image: https://github.com/kaggle/docker-python\n",
    "# For example, here's several helpful packages to load\n",
    "\n",
    "import numpy as np # linear algebra\n",
    "import pandas as pd # data processing, CSV file I/O (e.g. pd.read_csv)\n",
    "\n",
    "# Input data files are available in the read-only \"../input/\" directory\n",
    "# For example, running this (by clicking run or pressing Shift+Enter) will list all files under the input directory\n",
    "\n",
    "import os\n",
    "for dirname, _, filenames in os.walk('/kaggle/input'):\n",
    "    for filename in filenames:\n",
    "        print(os.path.join(dirname, filename))\n",
    "\n",
    "# You can write up to 20GB to the current directory (/kaggle/working/) that gets preserved as output when you create a version using \"Save & Run All\" \n",
    "# You can also write temporary files to /kaggle/temp/, but they won't be saved outside of the current session"
   ]
  },
  {
   "cell_type": "code",
   "execution_count": null,
   "metadata": {
    "execution": {
     "iopub.execute_input": "2021-10-25T04:40:10.402701Z",
     "iopub.status.busy": "2021-10-25T04:40:10.402106Z",
     "iopub.status.idle": "2021-10-25T04:40:10.40844Z",
     "shell.execute_reply": "2021-10-25T04:40:10.407144Z",
     "shell.execute_reply.started": "2021-10-25T04:40:10.402654Z"
    }
   },
   "outputs": [],
   "source": [
    "import pandas as pd\n",
    "import numpy as np\n",
    "import matplotlib.pyplot as plt"
   ]
  },
  {
   "cell_type": "code",
   "execution_count": null,
   "metadata": {
    "execution": {
     "iopub.execute_input": "2021-10-25T04:40:10.410091Z",
     "iopub.status.busy": "2021-10-25T04:40:10.409766Z",
     "iopub.status.idle": "2021-10-25T04:40:10.486244Z",
     "shell.execute_reply": "2021-10-25T04:40:10.485459Z",
     "shell.execute_reply.started": "2021-10-25T04:40:10.410049Z"
    }
   },
   "outputs": [],
   "source": [
    "df=pd.read_csv('/kaggle/input/telco-customer-churn/WA_Fn-UseC_-Telco-Customer-Churn.csv')"
   ]
  },
  {
   "cell_type": "code",
   "execution_count": null,
   "metadata": {
    "execution": {
     "iopub.execute_input": "2021-10-25T04:40:10.488533Z",
     "iopub.status.busy": "2021-10-25T04:40:10.488044Z",
     "iopub.status.idle": "2021-10-25T04:40:10.519396Z",
     "shell.execute_reply": "2021-10-25T04:40:10.517918Z",
     "shell.execute_reply.started": "2021-10-25T04:40:10.488499Z"
    }
   },
   "outputs": [],
   "source": [
    "#Can't see all the info\n",
    "df.head().T"
   ]
  },
  {
   "cell_type": "markdown",
   "metadata": {},
   "source": [
    "### Uniformizing the column names and categorical data"
   ]
  },
  {
   "cell_type": "code",
   "execution_count": null,
   "metadata": {
    "execution": {
     "iopub.execute_input": "2021-10-25T04:40:10.521097Z",
     "iopub.status.busy": "2021-10-25T04:40:10.520788Z",
     "iopub.status.idle": "2021-10-25T04:40:10.711305Z",
     "shell.execute_reply": "2021-10-25T04:40:10.710385Z",
     "shell.execute_reply.started": "2021-10-25T04:40:10.521057Z"
    }
   },
   "outputs": [],
   "source": [
    "df.columns=df.columns.str.lower().str.replace(' ','_')\n",
    "\n",
    "cate_columns=list(df.dtypes[df.dtypes=='object'].index)\n",
    "for c in cate_columns:\n",
    "    df[c]=df[c].str.lower().str.replace(' ','_')"
   ]
  },
  {
   "cell_type": "code",
   "execution_count": null,
   "metadata": {
    "execution": {
     "iopub.execute_input": "2021-10-25T04:40:10.713533Z",
     "iopub.status.busy": "2021-10-25T04:40:10.712626Z",
     "iopub.status.idle": "2021-10-25T04:40:10.733348Z",
     "shell.execute_reply": "2021-10-25T04:40:10.732301Z",
     "shell.execute_reply.started": "2021-10-25T04:40:10.713472Z"
    }
   },
   "outputs": [],
   "source": [
    "df.head().T"
   ]
  },
  {
   "cell_type": "code",
   "execution_count": null,
   "metadata": {
    "execution": {
     "iopub.execute_input": "2021-10-25T04:40:10.734934Z",
     "iopub.status.busy": "2021-10-25T04:40:10.734635Z",
     "iopub.status.idle": "2021-10-25T04:40:10.750906Z",
     "shell.execute_reply": "2021-10-25T04:40:10.749824Z",
     "shell.execute_reply.started": "2021-10-25T04:40:10.734903Z"
    }
   },
   "outputs": [],
   "source": [
    "df.dtypes"
   ]
  },
  {
   "cell_type": "markdown",
   "metadata": {},
   "source": [
    "### Objective data supposed to be numerical, change all the nonnumerical data into 0"
   ]
  },
  {
   "cell_type": "code",
   "execution_count": null,
   "metadata": {
    "execution": {
     "iopub.execute_input": "2021-10-25T04:40:10.752432Z",
     "iopub.status.busy": "2021-10-25T04:40:10.752072Z",
     "iopub.status.idle": "2021-10-25T04:40:10.77545Z",
     "shell.execute_reply": "2021-10-25T04:40:10.774194Z",
     "shell.execute_reply.started": "2021-10-25T04:40:10.752398Z"
    }
   },
   "outputs": [],
   "source": [
    "#totalcharges column has object instead of number\n",
    "#pd.to_numeric(df.totalcharges) #convert all to numbers\n",
    "df.totalcharges=pd.to_numeric(df.totalcharges,errors='coerce')"
   ]
  },
  {
   "cell_type": "code",
   "execution_count": null,
   "metadata": {
    "execution": {
     "iopub.execute_input": "2021-10-25T04:40:10.777286Z",
     "iopub.status.busy": "2021-10-25T04:40:10.776916Z",
     "iopub.status.idle": "2021-10-25T04:40:10.785592Z",
     "shell.execute_reply": "2021-10-25T04:40:10.784611Z",
     "shell.execute_reply.started": "2021-10-25T04:40:10.777256Z"
    }
   },
   "outputs": [],
   "source": [
    "#df[tc.isnull()][['customerid','totalcharges']]"
   ]
  },
  {
   "cell_type": "code",
   "execution_count": null,
   "metadata": {
    "execution": {
     "iopub.execute_input": "2021-10-25T04:40:10.789586Z",
     "iopub.status.busy": "2021-10-25T04:40:10.789203Z",
     "iopub.status.idle": "2021-10-25T04:40:10.802406Z",
     "shell.execute_reply": "2021-10-25T04:40:10.801487Z",
     "shell.execute_reply.started": "2021-10-25T04:40:10.789533Z"
    }
   },
   "outputs": [],
   "source": [
    "df.totalcharges=df.totalcharges.fillna(0)"
   ]
  },
  {
   "cell_type": "markdown",
   "metadata": {},
   "source": [
    "### Change yes/no into 1/0"
   ]
  },
  {
   "cell_type": "code",
   "execution_count": null,
   "metadata": {
    "execution": {
     "iopub.execute_input": "2021-10-25T04:40:10.804593Z",
     "iopub.status.busy": "2021-10-25T04:40:10.804176Z",
     "iopub.status.idle": "2021-10-25T04:40:10.827359Z",
     "shell.execute_reply": "2021-10-25T04:40:10.826535Z",
     "shell.execute_reply.started": "2021-10-25T04:40:10.80455Z"
    }
   },
   "outputs": [],
   "source": [
    "(df.churn=='yes').astype(int).head()"
   ]
  },
  {
   "cell_type": "code",
   "execution_count": null,
   "metadata": {
    "execution": {
     "iopub.execute_input": "2021-10-25T04:40:10.829544Z",
     "iopub.status.busy": "2021-10-25T04:40:10.829033Z",
     "iopub.status.idle": "2021-10-25T04:40:10.844807Z",
     "shell.execute_reply": "2021-10-25T04:40:10.8432Z",
     "shell.execute_reply.started": "2021-10-25T04:40:10.829502Z"
    }
   },
   "outputs": [],
   "source": [
    "df.churn=(df.churn=='yes').astype(int)"
   ]
  },
  {
   "cell_type": "markdown",
   "metadata": {},
   "source": [
    "### Split data"
   ]
  },
  {
   "cell_type": "code",
   "execution_count": null,
   "metadata": {
    "execution": {
     "iopub.execute_input": "2021-10-25T04:40:10.846683Z",
     "iopub.status.busy": "2021-10-25T04:40:10.846005Z",
     "iopub.status.idle": "2021-10-25T04:40:11.926879Z",
     "shell.execute_reply": "2021-10-25T04:40:11.92579Z",
     "shell.execute_reply.started": "2021-10-25T04:40:10.846638Z"
    }
   },
   "outputs": [],
   "source": [
    "from sklearn.model_selection import train_test_split"
   ]
  },
  {
   "cell_type": "code",
   "execution_count": null,
   "metadata": {
    "execution": {
     "iopub.execute_input": "2021-10-25T04:40:11.929479Z",
     "iopub.status.busy": "2021-10-25T04:40:11.928922Z",
     "iopub.status.idle": "2021-10-25T04:40:11.962648Z",
     "shell.execute_reply": "2021-10-25T04:40:11.961469Z",
     "shell.execute_reply.started": "2021-10-25T04:40:11.92944Z"
    }
   },
   "outputs": [],
   "source": [
    "df_full_train,df_test=train_test_split(df,test_size=0.2,random_state=1)\n",
    "df_train,df_val=train_test_split(df_full_train,test_size=0.25,random_state=1)\n",
    "df_train=df_train.reset_index(drop=True)\n",
    "df_val=df_val.reset_index(drop=True)\n",
    "df_test=df_test.reset_index(drop=True)\n",
    "y_train=df_train.churn.values\n",
    "y_val=df_val.churn.values\n",
    "y_test=df_test.churn.values\n",
    "del df_train['churn']\n",
    "del df_val['churn']\n",
    "del df_test['churn']"
   ]
  },
  {
   "cell_type": "markdown",
   "metadata": {},
   "source": [
    "### Check if there is missing values"
   ]
  },
  {
   "cell_type": "code",
   "execution_count": null,
   "metadata": {
    "execution": {
     "iopub.execute_input": "2021-10-25T04:40:11.964609Z",
     "iopub.status.busy": "2021-10-25T04:40:11.963897Z",
     "iopub.status.idle": "2021-10-25T04:40:11.992191Z",
     "shell.execute_reply": "2021-10-25T04:40:11.991472Z",
     "shell.execute_reply.started": "2021-10-25T04:40:11.964538Z"
    }
   },
   "outputs": [],
   "source": [
    "df_full_train=df_full_train.reset_index(drop=True)\n",
    "df_full_train.isnull().sum()"
   ]
  },
  {
   "cell_type": "markdown",
   "metadata": {},
   "source": []
  },
  {
   "cell_type": "markdown",
   "metadata": {},
   "source": [
    "### Analyse of target values"
   ]
  },
  {
   "cell_type": "code",
   "execution_count": null,
   "metadata": {
    "execution": {
     "iopub.execute_input": "2021-10-25T04:40:11.993681Z",
     "iopub.status.busy": "2021-10-25T04:40:11.993332Z",
     "iopub.status.idle": "2021-10-25T04:40:12.003304Z",
     "shell.execute_reply": "2021-10-25T04:40:12.001949Z",
     "shell.execute_reply.started": "2021-10-25T04:40:11.993651Z"
    }
   },
   "outputs": [],
   "source": [
    "#df_full_train.churn.value_counts(normalize=True)\n",
    "#churn rate is 26%\n",
    "global_churn_rate=df_full_train.churn.mean()"
   ]
  },
  {
   "cell_type": "code",
   "execution_count": null,
   "metadata": {
    "execution": {
     "iopub.execute_input": "2021-10-25T04:40:12.004943Z",
     "iopub.status.busy": "2021-10-25T04:40:12.004582Z",
     "iopub.status.idle": "2021-10-25T04:40:12.017764Z",
     "shell.execute_reply": "2021-10-25T04:40:12.017051Z",
     "shell.execute_reply.started": "2021-10-25T04:40:12.004914Z"
    }
   },
   "outputs": [],
   "source": [
    "numerical=['tenure','monthlycharges','totalcharges']"
   ]
  },
  {
   "cell_type": "code",
   "execution_count": null,
   "metadata": {
    "execution": {
     "iopub.execute_input": "2021-10-25T04:40:12.019611Z",
     "iopub.status.busy": "2021-10-25T04:40:12.018973Z",
     "iopub.status.idle": "2021-10-25T04:40:12.034296Z",
     "shell.execute_reply": "2021-10-25T04:40:12.033453Z",
     "shell.execute_reply.started": "2021-10-25T04:40:12.019575Z"
    }
   },
   "outputs": [],
   "source": [
    "df_full_train.columns"
   ]
  },
  {
   "cell_type": "code",
   "execution_count": null,
   "metadata": {
    "execution": {
     "iopub.execute_input": "2021-10-25T04:40:12.036079Z",
     "iopub.status.busy": "2021-10-25T04:40:12.035408Z",
     "iopub.status.idle": "2021-10-25T04:40:12.048719Z",
     "shell.execute_reply": "2021-10-25T04:40:12.047768Z",
     "shell.execute_reply.started": "2021-10-25T04:40:12.036047Z"
    }
   },
   "outputs": [],
   "source": [
    "categorical=['gender', 'seniorcitizen', 'partner', 'dependents', 'phoneservice', 'multiplelines', 'internetservice',\n",
    "       'onlinesecurity', 'onlinebackup', 'deviceprotection', 'techsupport',\n",
    "       'streamingtv', 'streamingmovies', 'contract', 'paperlessbilling',\n",
    "       'paymentmethod']"
   ]
  },
  {
   "cell_type": "code",
   "execution_count": null,
   "metadata": {
    "execution": {
     "iopub.execute_input": "2021-10-25T04:40:12.050241Z",
     "iopub.status.busy": "2021-10-25T04:40:12.05Z",
     "iopub.status.idle": "2021-10-25T04:40:12.092049Z",
     "shell.execute_reply": "2021-10-25T04:40:12.090862Z",
     "shell.execute_reply.started": "2021-10-25T04:40:12.050205Z"
    }
   },
   "outputs": [],
   "source": [
    "df_full_train[categorical].nunique()"
   ]
  },
  {
   "cell_type": "code",
   "execution_count": null,
   "metadata": {
    "execution": {
     "iopub.execute_input": "2021-10-25T04:40:12.094056Z",
     "iopub.status.busy": "2021-10-25T04:40:12.093443Z",
     "iopub.status.idle": "2021-10-25T04:40:12.105482Z",
     "shell.execute_reply": "2021-10-25T04:40:12.104757Z",
     "shell.execute_reply.started": "2021-10-25T04:40:12.094021Z"
    }
   },
   "outputs": [],
   "source": [
    "churn_F=df_full_train[df_full_train.gender=='female'].churn.mean()\n",
    "churn_F"
   ]
  },
  {
   "cell_type": "code",
   "execution_count": null,
   "metadata": {
    "execution": {
     "iopub.execute_input": "2021-10-25T04:40:12.107535Z",
     "iopub.status.busy": "2021-10-25T04:40:12.106761Z",
     "iopub.status.idle": "2021-10-25T04:40:12.12805Z",
     "shell.execute_reply": "2021-10-25T04:40:12.127235Z",
     "shell.execute_reply.started": "2021-10-25T04:40:12.107499Z"
    }
   },
   "outputs": [],
   "source": [
    "churn_M=df_full_train[df_full_train.gender=='male'].churn.mean()\n",
    "churn_M"
   ]
  },
  {
   "cell_type": "code",
   "execution_count": null,
   "metadata": {
    "execution": {
     "iopub.execute_input": "2021-10-25T04:40:12.130226Z",
     "iopub.status.busy": "2021-10-25T04:40:12.129728Z",
     "iopub.status.idle": "2021-10-25T04:40:12.13895Z",
     "shell.execute_reply": "2021-10-25T04:40:12.138041Z",
     "shell.execute_reply.started": "2021-10-25T04:40:12.130185Z"
    }
   },
   "outputs": [],
   "source": [
    "global_churn_rate"
   ]
  },
  {
   "cell_type": "code",
   "execution_count": null,
   "metadata": {
    "execution": {
     "iopub.execute_input": "2021-10-25T04:40:12.140637Z",
     "iopub.status.busy": "2021-10-25T04:40:12.140129Z",
     "iopub.status.idle": "2021-10-25T04:40:12.158701Z",
     "shell.execute_reply": "2021-10-25T04:40:12.157837Z",
     "shell.execute_reply.started": "2021-10-25T04:40:12.140598Z"
    }
   },
   "outputs": [],
   "source": [
    "churn_partner=df_full_train[df_full_train.partner=='yes'].churn.mean()\n",
    "churn_partner"
   ]
  },
  {
   "cell_type": "code",
   "execution_count": null,
   "metadata": {
    "execution": {
     "iopub.execute_input": "2021-10-25T04:40:12.161005Z",
     "iopub.status.busy": "2021-10-25T04:40:12.160498Z",
     "iopub.status.idle": "2021-10-25T04:40:12.177175Z",
     "shell.execute_reply": "2021-10-25T04:40:12.176047Z",
     "shell.execute_reply.started": "2021-10-25T04:40:12.160961Z"
    }
   },
   "outputs": [],
   "source": [
    "churn_no_partner=df_full_train[df_full_train.partner=='no'].churn.mean()\n",
    "churn_no_partner"
   ]
  },
  {
   "cell_type": "code",
   "execution_count": null,
   "metadata": {
    "execution": {
     "iopub.execute_input": "2021-10-25T04:40:12.180615Z",
     "iopub.status.busy": "2021-10-25T04:40:12.178847Z",
     "iopub.status.idle": "2021-10-25T04:40:12.189185Z",
     "shell.execute_reply": "2021-10-25T04:40:12.188443Z",
     "shell.execute_reply.started": "2021-10-25T04:40:12.18057Z"
    }
   },
   "outputs": [],
   "source": [
    "global_churn_rate-churn_F"
   ]
  },
  {
   "cell_type": "code",
   "execution_count": null,
   "metadata": {
    "execution": {
     "iopub.execute_input": "2021-10-25T04:40:12.191441Z",
     "iopub.status.busy": "2021-10-25T04:40:12.190562Z",
     "iopub.status.idle": "2021-10-25T04:40:12.204411Z",
     "shell.execute_reply": "2021-10-25T04:40:12.203739Z",
     "shell.execute_reply.started": "2021-10-25T04:40:12.191387Z"
    }
   },
   "outputs": [],
   "source": [
    "global_churn_rate-churn_partner"
   ]
  },
  {
   "cell_type": "markdown",
   "metadata": {},
   "source": [
    "Seems like partner is more important than female/male"
   ]
  },
  {
   "cell_type": "code",
   "execution_count": null,
   "metadata": {
    "execution": {
     "iopub.execute_input": "2021-10-25T04:40:12.209703Z",
     "iopub.status.busy": "2021-10-25T04:40:12.208916Z",
     "iopub.status.idle": "2021-10-25T04:40:12.222665Z",
     "shell.execute_reply": "2021-10-25T04:40:12.221775Z",
     "shell.execute_reply.started": "2021-10-25T04:40:12.209662Z"
    }
   },
   "outputs": [],
   "source": [
    "churn_no_partner/global_churn_rate"
   ]
  },
  {
   "cell_type": "markdown",
   "metadata": {},
   "source": [
    "1. difference=global-group>0 means less likely to churn\n",
    "2. risk ratio=group/global>1 mean more likely to churn\n",
    "\n",
    "\n",
    "\n"
   ]
  },
  {
   "cell_type": "code",
   "execution_count": null,
   "metadata": {
    "execution": {
     "iopub.execute_input": "2021-10-25T04:40:12.224674Z",
     "iopub.status.busy": "2021-10-25T04:40:12.224124Z",
     "iopub.status.idle": "2021-10-25T04:40:12.256687Z",
     "shell.execute_reply": "2021-10-25T04:40:12.255475Z",
     "shell.execute_reply.started": "2021-10-25T04:40:12.224637Z"
    }
   },
   "outputs": [],
   "source": [
    "df_group=df_full_train.groupby('gender').churn.agg(['mean','count'])\n",
    "df_group['diff']=df_group['mean']-global_churn_rate\n",
    "df_group['risk']=df_group['mean']/global_churn_rate\n",
    "df_group"
   ]
  },
  {
   "cell_type": "markdown",
   "metadata": {
    "execution": {
     "iopub.execute_input": "2021-09-26T21:09:13.237129Z",
     "iopub.status.busy": "2021-09-26T21:09:13.236734Z",
     "iopub.status.idle": "2021-09-26T21:09:13.241998Z",
     "shell.execute_reply": "2021-09-26T21:09:13.241079Z",
     "shell.execute_reply.started": "2021-09-26T21:09:13.237087Z"
    }
   },
   "source": [
    "### Analysis of churn rate (who is more likely to churn) within groups"
   ]
  },
  {
   "cell_type": "code",
   "execution_count": null,
   "metadata": {
    "execution": {
     "iopub.execute_input": "2021-10-25T04:40:12.259466Z",
     "iopub.status.busy": "2021-10-25T04:40:12.258381Z",
     "iopub.status.idle": "2021-10-25T04:40:12.481206Z",
     "shell.execute_reply": "2021-10-25T04:40:12.480372Z",
     "shell.execute_reply.started": "2021-10-25T04:40:12.259412Z"
    }
   },
   "outputs": [],
   "source": [
    "from IPython.display import display\n",
    "for c in categorical:\n",
    "    print(c)\n",
    "    df_group=df_full_train.groupby(c).churn.agg(['mean','count'])\n",
    "    df_group['diff']=df_group['mean']-global_churn_rate\n",
    "    df_group['risk']=df_group['mean']/global_churn_rate\n",
    "    display(df_group)\n",
    "    print()"
   ]
  },
  {
   "cell_type": "markdown",
   "metadata": {},
   "source": [
    "## Mutual information"
   ]
  },
  {
   "cell_type": "code",
   "execution_count": null,
   "metadata": {
    "execution": {
     "iopub.execute_input": "2021-10-25T04:40:12.482962Z",
     "iopub.status.busy": "2021-10-25T04:40:12.482547Z",
     "iopub.status.idle": "2021-10-25T04:40:12.487444Z",
     "shell.execute_reply": "2021-10-25T04:40:12.486013Z",
     "shell.execute_reply.started": "2021-10-25T04:40:12.482922Z"
    }
   },
   "outputs": [],
   "source": [
    "from sklearn.metrics import mutual_info_score"
   ]
  },
  {
   "cell_type": "code",
   "execution_count": null,
   "metadata": {
    "execution": {
     "iopub.execute_input": "2021-10-25T04:40:12.490044Z",
     "iopub.status.busy": "2021-10-25T04:40:12.48943Z",
     "iopub.status.idle": "2021-10-25T04:40:12.525393Z",
     "shell.execute_reply": "2021-10-25T04:40:12.524626Z",
     "shell.execute_reply.started": "2021-10-25T04:40:12.490006Z"
    }
   },
   "outputs": [],
   "source": [
    "mutual_info_score(df_full_train.contract,df_full_train.churn)"
   ]
  },
  {
   "cell_type": "code",
   "execution_count": null,
   "metadata": {
    "execution": {
     "iopub.execute_input": "2021-10-25T04:40:12.527244Z",
     "iopub.status.busy": "2021-10-25T04:40:12.526809Z",
     "iopub.status.idle": "2021-10-25T04:40:12.543781Z",
     "shell.execute_reply": "2021-10-25T04:40:12.542795Z",
     "shell.execute_reply.started": "2021-10-25T04:40:12.527213Z"
    }
   },
   "outputs": [],
   "source": [
    "mutual_info_score(df_full_train.gender,df_full_train.churn)"
   ]
  },
  {
   "cell_type": "code",
   "execution_count": null,
   "metadata": {
    "execution": {
     "iopub.execute_input": "2021-10-25T04:40:12.545631Z",
     "iopub.status.busy": "2021-10-25T04:40:12.544744Z",
     "iopub.status.idle": "2021-10-25T04:40:12.550003Z",
     "shell.execute_reply": "2021-10-25T04:40:12.548909Z",
     "shell.execute_reply.started": "2021-10-25T04:40:12.545594Z"
    }
   },
   "outputs": [],
   "source": [
    "def mutual_info_churn_score(series):\n",
    "    return mutual_info_score(series,df_full_train.churn)"
   ]
  },
  {
   "cell_type": "code",
   "execution_count": null,
   "metadata": {
    "execution": {
     "iopub.execute_input": "2021-10-25T04:40:12.551984Z",
     "iopub.status.busy": "2021-10-25T04:40:12.551207Z",
     "iopub.status.idle": "2021-10-25T04:40:12.710642Z",
     "shell.execute_reply": "2021-10-25T04:40:12.709979Z",
     "shell.execute_reply.started": "2021-10-25T04:40:12.551934Z"
    }
   },
   "outputs": [],
   "source": [
    "mi=df_full_train[categorical].apply(mutual_info_churn_score)\n",
    "mi.sort_values(ascending=False)"
   ]
  },
  {
   "cell_type": "markdown",
   "metadata": {},
   "source": [
    "## Correlation coefficient"
   ]
  },
  {
   "cell_type": "code",
   "execution_count": null,
   "metadata": {
    "execution": {
     "iopub.execute_input": "2021-10-25T04:40:12.712064Z",
     "iopub.status.busy": "2021-10-25T04:40:12.711616Z",
     "iopub.status.idle": "2021-10-25T04:40:12.727754Z",
     "shell.execute_reply": "2021-10-25T04:40:12.726774Z",
     "shell.execute_reply.started": "2021-10-25T04:40:12.712026Z"
    }
   },
   "outputs": [],
   "source": [
    "df_full_train[numerical].corrwith(df_full_train.churn)"
   ]
  },
  {
   "cell_type": "code",
   "execution_count": null,
   "metadata": {
    "execution": {
     "iopub.execute_input": "2021-10-25T04:40:12.729279Z",
     "iopub.status.busy": "2021-10-25T04:40:12.729015Z",
     "iopub.status.idle": "2021-10-25T04:40:12.738923Z",
     "shell.execute_reply": "2021-10-25T04:40:12.73744Z",
     "shell.execute_reply.started": "2021-10-25T04:40:12.729249Z"
    }
   },
   "outputs": [],
   "source": [
    "df_full_train[(df_full_train.tenure>2) & (df_full_train.tenure<=12)].churn.mean()"
   ]
  },
  {
   "cell_type": "code",
   "execution_count": null,
   "metadata": {
    "execution": {
     "iopub.execute_input": "2021-10-25T04:40:12.741017Z",
     "iopub.status.busy": "2021-10-25T04:40:12.740691Z",
     "iopub.status.idle": "2021-10-25T04:40:12.760046Z",
     "shell.execute_reply": "2021-10-25T04:40:12.75929Z",
     "shell.execute_reply.started": "2021-10-25T04:40:12.740974Z"
    }
   },
   "outputs": [],
   "source": [
    "df_full_train[df_full_train.tenure<=2].churn.mean()"
   ]
  },
  {
   "cell_type": "code",
   "execution_count": null,
   "metadata": {
    "execution": {
     "iopub.execute_input": "2021-10-25T04:40:12.761935Z",
     "iopub.status.busy": "2021-10-25T04:40:12.761527Z",
     "iopub.status.idle": "2021-10-25T04:40:12.77629Z",
     "shell.execute_reply": "2021-10-25T04:40:12.775269Z",
     "shell.execute_reply.started": "2021-10-25T04:40:12.7619Z"
    }
   },
   "outputs": [],
   "source": [
    "df_full_train[df_full_train.tenure>12].churn.mean()"
   ]
  },
  {
   "cell_type": "markdown",
   "metadata": {},
   "source": [
    "## One-hot encoding "
   ]
  },
  {
   "cell_type": "code",
   "execution_count": null,
   "metadata": {
    "execution": {
     "iopub.execute_input": "2021-10-25T04:40:12.778591Z",
     "iopub.status.busy": "2021-10-25T04:40:12.777628Z",
     "iopub.status.idle": "2021-10-25T04:40:13.138908Z",
     "shell.execute_reply": "2021-10-25T04:40:13.137946Z",
     "shell.execute_reply.started": "2021-10-25T04:40:12.778546Z"
    }
   },
   "outputs": [],
   "source": [
    "from sklearn.feature_extraction import DictVectorizer\n",
    "train_dicts=df_train[categorical].to_dict(orient='records')\n",
    "dv=DictVectorizer(sparse=False)\n",
    "dv.fit(train_dicts)\n",
    "X_train_cat=dv.transform(train_dicts)\n",
    "X_train_num=df_train[numerical].to_numpy()\n",
    "X_train=np.concatenate((X_train_cat,X_train_num),axis=1)\n",
    "val_dicts=train_dicts=df_val[categorical].to_dict(orient='records')\n",
    "X_val_cat=dv.transform(val_dicts)\n",
    "X_val_num=df_val[numerical].to_numpy()\n",
    "X_val=np.concatenate((X_val_cat,X_val_num),axis=1)"
   ]
  },
  {
   "cell_type": "code",
   "execution_count": null,
   "metadata": {
    "execution": {
     "iopub.execute_input": "2021-10-25T04:40:13.142392Z",
     "iopub.status.busy": "2021-10-25T04:40:13.142107Z",
     "iopub.status.idle": "2021-10-25T04:40:13.151109Z",
     "shell.execute_reply": "2021-10-25T04:40:13.150056Z",
     "shell.execute_reply.started": "2021-10-25T04:40:13.142363Z"
    }
   },
   "outputs": [],
   "source": [
    "dv.get_feature_names()"
   ]
  },
  {
   "cell_type": "markdown",
   "metadata": {},
   "source": [
    "## Logistic Regression"
   ]
  },
  {
   "cell_type": "code",
   "execution_count": null,
   "metadata": {
    "execution": {
     "iopub.execute_input": "2021-10-25T04:40:13.154068Z",
     "iopub.status.busy": "2021-10-25T04:40:13.152925Z",
     "iopub.status.idle": "2021-10-25T04:40:13.16843Z",
     "shell.execute_reply": "2021-10-25T04:40:13.167452Z",
     "shell.execute_reply.started": "2021-10-25T04:40:13.154013Z"
    }
   },
   "outputs": [],
   "source": [
    "def sigmoid(z):\n",
    "    return 1/(1+np.exp(-z))"
   ]
  },
  {
   "cell_type": "code",
   "execution_count": null,
   "metadata": {
    "execution": {
     "iopub.execute_input": "2021-10-25T04:40:13.170815Z",
     "iopub.status.busy": "2021-10-25T04:40:13.170036Z",
     "iopub.status.idle": "2021-10-25T04:40:13.432767Z",
     "shell.execute_reply": "2021-10-25T04:40:13.431356Z",
     "shell.execute_reply.started": "2021-10-25T04:40:13.170734Z"
    }
   },
   "outputs": [],
   "source": [
    "z=np.linspace(-5,5,51)\n",
    "plt.plot(z,sigmoid(z))"
   ]
  },
  {
   "cell_type": "code",
   "execution_count": null,
   "metadata": {
    "execution": {
     "iopub.execute_input": "2021-10-25T04:40:13.43496Z",
     "iopub.status.busy": "2021-10-25T04:40:13.434598Z",
     "iopub.status.idle": "2021-10-25T04:40:13.441509Z",
     "shell.execute_reply": "2021-10-25T04:40:13.4401Z",
     "shell.execute_reply.started": "2021-10-25T04:40:13.434914Z"
    }
   },
   "outputs": [],
   "source": [
    "def logistic_regression(xi):\n",
    "    result=w0\n",
    "    \n",
    "    for j in range(len(w)):\n",
    "        score=score+xi[j]*w[j]\n",
    "        \n",
    "    result=sigmoid(score)\n",
    "    return result"
   ]
  },
  {
   "cell_type": "code",
   "execution_count": null,
   "metadata": {
    "execution": {
     "iopub.execute_input": "2021-10-25T04:40:13.443385Z",
     "iopub.status.busy": "2021-10-25T04:40:13.44303Z",
     "iopub.status.idle": "2021-10-25T04:40:13.716719Z",
     "shell.execute_reply": "2021-10-25T04:40:13.715828Z",
     "shell.execute_reply.started": "2021-10-25T04:40:13.44334Z"
    }
   },
   "outputs": [],
   "source": [
    "from sklearn.linear_model import LogisticRegression\n",
    "model=LogisticRegression()\n",
    "model.fit(X_train,y_train)"
   ]
  },
  {
   "cell_type": "code",
   "execution_count": null,
   "metadata": {
    "execution": {
     "iopub.execute_input": "2021-10-25T04:40:13.719252Z",
     "iopub.status.busy": "2021-10-25T04:40:13.71835Z",
     "iopub.status.idle": "2021-10-25T04:40:13.732012Z",
     "shell.execute_reply": "2021-10-25T04:40:13.730702Z",
     "shell.execute_reply.started": "2021-10-25T04:40:13.719203Z"
    }
   },
   "outputs": [],
   "source": [
    "model.coef_[0].round(3)"
   ]
  },
  {
   "cell_type": "code",
   "execution_count": null,
   "metadata": {
    "execution": {
     "iopub.execute_input": "2021-10-25T04:40:13.739742Z",
     "iopub.status.busy": "2021-10-25T04:40:13.739023Z",
     "iopub.status.idle": "2021-10-25T04:40:13.747578Z",
     "shell.execute_reply": "2021-10-25T04:40:13.746642Z",
     "shell.execute_reply.started": "2021-10-25T04:40:13.739689Z"
    }
   },
   "outputs": [],
   "source": [
    "model.intercept_[0]"
   ]
  },
  {
   "cell_type": "code",
   "execution_count": null,
   "metadata": {
    "execution": {
     "iopub.execute_input": "2021-10-25T04:40:13.749839Z",
     "iopub.status.busy": "2021-10-25T04:40:13.749271Z",
     "iopub.status.idle": "2021-10-25T04:40:13.777229Z",
     "shell.execute_reply": "2021-10-25T04:40:13.776264Z",
     "shell.execute_reply.started": "2021-10-25T04:40:13.749785Z"
    }
   },
   "outputs": [],
   "source": [
    "model.predict(X_train)"
   ]
  },
  {
   "cell_type": "code",
   "execution_count": null,
   "metadata": {
    "execution": {
     "iopub.execute_input": "2021-10-25T04:40:13.779457Z",
     "iopub.status.busy": "2021-10-25T04:40:13.778925Z",
     "iopub.status.idle": "2021-10-25T04:40:13.836986Z",
     "shell.execute_reply": "2021-10-25T04:40:13.832088Z",
     "shell.execute_reply.started": "2021-10-25T04:40:13.779413Z"
    }
   },
   "outputs": [],
   "source": [
    "y_pred=model.predict_proba(X_val)[:,1]\n",
    "churn_decision=(y_pred>=0.5)\n",
    "y_val==churn_decision\n",
    "df_pred=pd.DataFrame()\n",
    "df_pred['probability']=y_pred\n",
    "df_pred['prediction']=churn_decision.astype(int)\n",
    "df_pred['actual']=y_val\n",
    "df_pred['correct']=df_pred.prediction==df_pred.actual\n",
    "df_pred.correct.mean()"
   ]
  },
  {
   "cell_type": "code",
   "execution_count": null,
   "metadata": {
    "execution": {
     "iopub.execute_input": "2021-10-25T04:40:13.846189Z",
     "iopub.status.busy": "2021-10-25T04:40:13.843336Z",
     "iopub.status.idle": "2021-10-25T04:40:13.874592Z",
     "shell.execute_reply": "2021-10-25T04:40:13.873639Z",
     "shell.execute_reply.started": "2021-10-25T04:40:13.846116Z"
    }
   },
   "outputs": [],
   "source": [
    "df_pred"
   ]
  },
  {
   "cell_type": "code",
   "execution_count": null,
   "metadata": {
    "execution": {
     "iopub.execute_input": "2021-10-25T04:40:13.877175Z",
     "iopub.status.busy": "2021-10-25T04:40:13.876609Z",
     "iopub.status.idle": "2021-10-25T04:40:13.889368Z",
     "shell.execute_reply": "2021-10-25T04:40:13.888411Z",
     "shell.execute_reply.started": "2021-10-25T04:40:13.877127Z"
    }
   },
   "outputs": [],
   "source": [
    "dict(zip(dv.get_feature_names(),model.coef_[0].round(3)))"
   ]
  },
  {
   "cell_type": "code",
   "execution_count": null,
   "metadata": {
    "execution": {
     "iopub.execute_input": "2021-10-25T04:40:13.891767Z",
     "iopub.status.busy": "2021-10-25T04:40:13.891033Z",
     "iopub.status.idle": "2021-10-25T04:40:13.904094Z",
     "shell.execute_reply": "2021-10-25T04:40:13.903227Z",
     "shell.execute_reply.started": "2021-10-25T04:40:13.891712Z"
    }
   },
   "outputs": [],
   "source": [
    "small=['contract','tenure','monthlycharges']"
   ]
  },
  {
   "cell_type": "code",
   "execution_count": null,
   "metadata": {
    "execution": {
     "iopub.execute_input": "2021-10-25T04:40:13.906139Z",
     "iopub.status.busy": "2021-10-25T04:40:13.905599Z",
     "iopub.status.idle": "2021-10-25T04:40:13.978183Z",
     "shell.execute_reply": "2021-10-25T04:40:13.976988Z",
     "shell.execute_reply.started": "2021-10-25T04:40:13.906095Z"
    }
   },
   "outputs": [],
   "source": [
    "dicts_train_small=df_train[small].to_dict(orient='records')\n",
    "dicts_val_small=df_val[small].to_dict(orient='records')"
   ]
  },
  {
   "cell_type": "code",
   "execution_count": null,
   "metadata": {
    "execution": {
     "iopub.execute_input": "2021-10-25T04:40:13.980076Z",
     "iopub.status.busy": "2021-10-25T04:40:13.97955Z",
     "iopub.status.idle": "2021-10-25T04:40:13.999845Z",
     "shell.execute_reply": "2021-10-25T04:40:13.999163Z",
     "shell.execute_reply.started": "2021-10-25T04:40:13.980031Z"
    }
   },
   "outputs": [],
   "source": [
    "dv_small=DictVectorizer(sparse=False)\n",
    "dv_small.fit(dicts_train_small)"
   ]
  },
  {
   "cell_type": "code",
   "execution_count": null,
   "metadata": {
    "execution": {
     "iopub.execute_input": "2021-10-25T04:40:14.001654Z",
     "iopub.status.busy": "2021-10-25T04:40:14.001077Z",
     "iopub.status.idle": "2021-10-25T04:40:14.007147Z",
     "shell.execute_reply": "2021-10-25T04:40:14.006398Z",
     "shell.execute_reply.started": "2021-10-25T04:40:14.001624Z"
    }
   },
   "outputs": [],
   "source": [
    "dv_small.get_feature_names()"
   ]
  },
  {
   "cell_type": "code",
   "execution_count": null,
   "metadata": {
    "execution": {
     "iopub.execute_input": "2021-10-25T04:40:14.009096Z",
     "iopub.status.busy": "2021-10-25T04:40:14.008238Z",
     "iopub.status.idle": "2021-10-25T04:40:14.044062Z",
     "shell.execute_reply": "2021-10-25T04:40:14.043355Z",
     "shell.execute_reply.started": "2021-10-25T04:40:14.009057Z"
    }
   },
   "outputs": [],
   "source": [
    "X_train_small=dv_small.transform(dicts_train_small)"
   ]
  },
  {
   "cell_type": "code",
   "execution_count": null,
   "metadata": {
    "execution": {
     "iopub.execute_input": "2021-10-25T04:40:14.045521Z",
     "iopub.status.busy": "2021-10-25T04:40:14.045041Z",
     "iopub.status.idle": "2021-10-25T04:40:14.193402Z",
     "shell.execute_reply": "2021-10-25T04:40:14.192461Z",
     "shell.execute_reply.started": "2021-10-25T04:40:14.045487Z"
    }
   },
   "outputs": [],
   "source": [
    "model_small=LogisticRegression()\n",
    "model_small.fit(X_train_small,y_train)"
   ]
  },
  {
   "cell_type": "code",
   "execution_count": null,
   "metadata": {
    "execution": {
     "iopub.execute_input": "2021-10-25T04:40:14.195401Z",
     "iopub.status.busy": "2021-10-25T04:40:14.194878Z",
     "iopub.status.idle": "2021-10-25T04:40:14.20372Z",
     "shell.execute_reply": "2021-10-25T04:40:14.201904Z",
     "shell.execute_reply.started": "2021-10-25T04:40:14.195353Z"
    }
   },
   "outputs": [],
   "source": [
    "w0=model_small.intercept_[0]\n",
    "w0"
   ]
  },
  {
   "cell_type": "code",
   "execution_count": null,
   "metadata": {
    "execution": {
     "iopub.execute_input": "2021-10-25T04:40:14.206495Z",
     "iopub.status.busy": "2021-10-25T04:40:14.205819Z",
     "iopub.status.idle": "2021-10-25T04:40:14.221125Z",
     "shell.execute_reply": "2021-10-25T04:40:14.220015Z",
     "shell.execute_reply.started": "2021-10-25T04:40:14.206438Z"
    }
   },
   "outputs": [],
   "source": [
    "w1=model_small.coef_[0]\n",
    "w1.round(3)"
   ]
  },
  {
   "cell_type": "code",
   "execution_count": null,
   "metadata": {
    "execution": {
     "iopub.execute_input": "2021-10-25T04:40:14.22388Z",
     "iopub.status.busy": "2021-10-25T04:40:14.223268Z",
     "iopub.status.idle": "2021-10-25T04:40:14.240603Z",
     "shell.execute_reply": "2021-10-25T04:40:14.239365Z",
     "shell.execute_reply.started": "2021-10-25T04:40:14.223829Z"
    }
   },
   "outputs": [],
   "source": [
    "dict(zip(dv_small.get_feature_names(),model_small.coef_[0].round(3)))"
   ]
  },
  {
   "cell_type": "code",
   "execution_count": null,
   "metadata": {
    "execution": {
     "iopub.execute_input": "2021-10-25T04:40:14.245549Z",
     "iopub.status.busy": "2021-10-25T04:40:14.244025Z",
     "iopub.status.idle": "2021-10-25T04:40:14.259608Z",
     "shell.execute_reply": "2021-10-25T04:40:14.257934Z",
     "shell.execute_reply.started": "2021-10-25T04:40:14.245485Z"
    }
   },
   "outputs": [],
   "source": [
    "y_train.dtype"
   ]
  },
  {
   "cell_type": "code",
   "execution_count": null,
   "metadata": {
    "execution": {
     "iopub.execute_input": "2021-10-25T04:40:14.264698Z",
     "iopub.status.busy": "2021-10-25T04:40:14.263372Z",
     "iopub.status.idle": "2021-10-25T04:40:14.278035Z",
     "shell.execute_reply": "2021-10-25T04:40:14.276428Z",
     "shell.execute_reply.started": "2021-10-25T04:40:14.264634Z"
    }
   },
   "outputs": [],
   "source": [
    "X_train.dtype"
   ]
  },
  {
   "cell_type": "code",
   "execution_count": null,
   "metadata": {
    "execution": {
     "iopub.execute_input": "2021-10-25T04:40:14.283588Z",
     "iopub.status.busy": "2021-10-25T04:40:14.282017Z",
     "iopub.status.idle": "2021-10-25T04:40:14.521899Z",
     "shell.execute_reply": "2021-10-25T04:40:14.520868Z",
     "shell.execute_reply.started": "2021-10-25T04:40:14.283522Z"
    }
   },
   "outputs": [],
   "source": [
    "model=LogisticRegression(solver='lbfgs', C=1.0, random_state=42)\n",
    "#model= LogisticRegression(solver='liblinear')\n",
    "model.fit(X_train,y_train)"
   ]
  },
  {
   "cell_type": "code",
   "execution_count": null,
   "metadata": {
    "execution": {
     "iopub.execute_input": "2021-10-25T04:40:14.524169Z",
     "iopub.status.busy": "2021-10-25T04:40:14.523447Z",
     "iopub.status.idle": "2021-10-25T04:40:14.538402Z",
     "shell.execute_reply": "2021-10-25T04:40:14.537399Z",
     "shell.execute_reply.started": "2021-10-25T04:40:14.524119Z"
    }
   },
   "outputs": [],
   "source": [
    "y_pred=model.predict_proba(X_val)[:,1]"
   ]
  },
  {
   "cell_type": "code",
   "execution_count": null,
   "metadata": {},
   "outputs": [],
   "source": []
  }
 ],
 "metadata": {
  "kernelspec": {
   "display_name": "Python 3",
   "language": "python",
   "name": "python3"
  },
  "language_info": {
   "codemirror_mode": {
    "name": "ipython",
    "version": 3
   },
   "file_extension": ".py",
   "mimetype": "text/x-python",
   "name": "python",
   "nbconvert_exporter": "python",
   "pygments_lexer": "ipython3",
   "version": "3.7.6"
  }
 },
 "nbformat": 4,
 "nbformat_minor": 4
}
